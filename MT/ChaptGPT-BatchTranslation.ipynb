{
  "nbformat": 4,
  "nbformat_minor": 0,
  "metadata": {
    "colab": {
      "provenance": [],
      "mount_file_id": "1qGK-DnaZccxv25-CJQBpcD-Ptp45kYcw",
      "authorship_tag": "ABX9TyMCDg0dEFfpqumWHqaVUSdV",
      "include_colab_link": true
    },
    "kernelspec": {
      "name": "python3",
      "display_name": "Python 3"
    },
    "language_info": {
      "name": "python"
    },
    "widgets": {
      "application/vnd.jupyter.widget-state+json": {
        "8cf18e11a6a84c819f87647e9058137b": {
          "model_module": "@jupyter-widgets/controls",
          "model_name": "HBoxModel",
          "model_module_version": "1.5.0",
          "state": {
            "_dom_classes": [],
            "_model_module": "@jupyter-widgets/controls",
            "_model_module_version": "1.5.0",
            "_model_name": "HBoxModel",
            "_view_count": null,
            "_view_module": "@jupyter-widgets/controls",
            "_view_module_version": "1.5.0",
            "_view_name": "HBoxView",
            "box_style": "",
            "children": [
              "IPY_MODEL_99f434e6d09448af9a53c531028fdb51",
              "IPY_MODEL_7db14118a3df4b879c6e88dab25cf2eb",
              "IPY_MODEL_e5e26be5deb84263bc67d9b4a725e0a4"
            ],
            "layout": "IPY_MODEL_8413bffae7094a3fa14e6962695617e1"
          }
        },
        "99f434e6d09448af9a53c531028fdb51": {
          "model_module": "@jupyter-widgets/controls",
          "model_name": "HTMLModel",
          "model_module_version": "1.5.0",
          "state": {
            "_dom_classes": [],
            "_model_module": "@jupyter-widgets/controls",
            "_model_module_version": "1.5.0",
            "_model_name": "HTMLModel",
            "_view_count": null,
            "_view_module": "@jupyter-widgets/controls",
            "_view_module_version": "1.5.0",
            "_view_name": "HTMLView",
            "description": "",
            "description_tooltip": null,
            "layout": "IPY_MODEL_b9cc92cf18c74d24a0264e3887bce227",
            "placeholder": "​",
            "style": "IPY_MODEL_187e8ebf1bbf492e9bcbf76a39293193",
            "value": "100%"
          }
        },
        "7db14118a3df4b879c6e88dab25cf2eb": {
          "model_module": "@jupyter-widgets/controls",
          "model_name": "FloatProgressModel",
          "model_module_version": "1.5.0",
          "state": {
            "_dom_classes": [],
            "_model_module": "@jupyter-widgets/controls",
            "_model_module_version": "1.5.0",
            "_model_name": "FloatProgressModel",
            "_view_count": null,
            "_view_module": "@jupyter-widgets/controls",
            "_view_module_version": "1.5.0",
            "_view_name": "ProgressView",
            "bar_style": "success",
            "description": "",
            "description_tooltip": null,
            "layout": "IPY_MODEL_2704a0f59c8e4496b2d9f14100b40bb7",
            "max": 3070,
            "min": 0,
            "orientation": "horizontal",
            "style": "IPY_MODEL_ca2ae9dcef2e4ce8a27bcc0e778b661c",
            "value": 3070
          }
        },
        "e5e26be5deb84263bc67d9b4a725e0a4": {
          "model_module": "@jupyter-widgets/controls",
          "model_name": "HTMLModel",
          "model_module_version": "1.5.0",
          "state": {
            "_dom_classes": [],
            "_model_module": "@jupyter-widgets/controls",
            "_model_module_version": "1.5.0",
            "_model_name": "HTMLModel",
            "_view_count": null,
            "_view_module": "@jupyter-widgets/controls",
            "_view_module_version": "1.5.0",
            "_view_name": "HTMLView",
            "description": "",
            "description_tooltip": null,
            "layout": "IPY_MODEL_014adb6939f944fbbf3d6015aea9ab6d",
            "placeholder": "​",
            "style": "IPY_MODEL_ab39e7cab2af4082aae43b785d03694e",
            "value": " 3070/3070 [00:05&lt;00:00, 641.51it/s]"
          }
        },
        "8413bffae7094a3fa14e6962695617e1": {
          "model_module": "@jupyter-widgets/base",
          "model_name": "LayoutModel",
          "model_module_version": "1.2.0",
          "state": {
            "_model_module": "@jupyter-widgets/base",
            "_model_module_version": "1.2.0",
            "_model_name": "LayoutModel",
            "_view_count": null,
            "_view_module": "@jupyter-widgets/base",
            "_view_module_version": "1.2.0",
            "_view_name": "LayoutView",
            "align_content": null,
            "align_items": null,
            "align_self": null,
            "border": null,
            "bottom": null,
            "display": null,
            "flex": null,
            "flex_flow": null,
            "grid_area": null,
            "grid_auto_columns": null,
            "grid_auto_flow": null,
            "grid_auto_rows": null,
            "grid_column": null,
            "grid_gap": null,
            "grid_row": null,
            "grid_template_areas": null,
            "grid_template_columns": null,
            "grid_template_rows": null,
            "height": null,
            "justify_content": null,
            "justify_items": null,
            "left": null,
            "margin": null,
            "max_height": null,
            "max_width": null,
            "min_height": null,
            "min_width": null,
            "object_fit": null,
            "object_position": null,
            "order": null,
            "overflow": null,
            "overflow_x": null,
            "overflow_y": null,
            "padding": null,
            "right": null,
            "top": null,
            "visibility": null,
            "width": null
          }
        },
        "b9cc92cf18c74d24a0264e3887bce227": {
          "model_module": "@jupyter-widgets/base",
          "model_name": "LayoutModel",
          "model_module_version": "1.2.0",
          "state": {
            "_model_module": "@jupyter-widgets/base",
            "_model_module_version": "1.2.0",
            "_model_name": "LayoutModel",
            "_view_count": null,
            "_view_module": "@jupyter-widgets/base",
            "_view_module_version": "1.2.0",
            "_view_name": "LayoutView",
            "align_content": null,
            "align_items": null,
            "align_self": null,
            "border": null,
            "bottom": null,
            "display": null,
            "flex": null,
            "flex_flow": null,
            "grid_area": null,
            "grid_auto_columns": null,
            "grid_auto_flow": null,
            "grid_auto_rows": null,
            "grid_column": null,
            "grid_gap": null,
            "grid_row": null,
            "grid_template_areas": null,
            "grid_template_columns": null,
            "grid_template_rows": null,
            "height": null,
            "justify_content": null,
            "justify_items": null,
            "left": null,
            "margin": null,
            "max_height": null,
            "max_width": null,
            "min_height": null,
            "min_width": null,
            "object_fit": null,
            "object_position": null,
            "order": null,
            "overflow": null,
            "overflow_x": null,
            "overflow_y": null,
            "padding": null,
            "right": null,
            "top": null,
            "visibility": null,
            "width": null
          }
        },
        "187e8ebf1bbf492e9bcbf76a39293193": {
          "model_module": "@jupyter-widgets/controls",
          "model_name": "DescriptionStyleModel",
          "model_module_version": "1.5.0",
          "state": {
            "_model_module": "@jupyter-widgets/controls",
            "_model_module_version": "1.5.0",
            "_model_name": "DescriptionStyleModel",
            "_view_count": null,
            "_view_module": "@jupyter-widgets/base",
            "_view_module_version": "1.2.0",
            "_view_name": "StyleView",
            "description_width": ""
          }
        },
        "2704a0f59c8e4496b2d9f14100b40bb7": {
          "model_module": "@jupyter-widgets/base",
          "model_name": "LayoutModel",
          "model_module_version": "1.2.0",
          "state": {
            "_model_module": "@jupyter-widgets/base",
            "_model_module_version": "1.2.0",
            "_model_name": "LayoutModel",
            "_view_count": null,
            "_view_module": "@jupyter-widgets/base",
            "_view_module_version": "1.2.0",
            "_view_name": "LayoutView",
            "align_content": null,
            "align_items": null,
            "align_self": null,
            "border": null,
            "bottom": null,
            "display": null,
            "flex": null,
            "flex_flow": null,
            "grid_area": null,
            "grid_auto_columns": null,
            "grid_auto_flow": null,
            "grid_auto_rows": null,
            "grid_column": null,
            "grid_gap": null,
            "grid_row": null,
            "grid_template_areas": null,
            "grid_template_columns": null,
            "grid_template_rows": null,
            "height": null,
            "justify_content": null,
            "justify_items": null,
            "left": null,
            "margin": null,
            "max_height": null,
            "max_width": null,
            "min_height": null,
            "min_width": null,
            "object_fit": null,
            "object_position": null,
            "order": null,
            "overflow": null,
            "overflow_x": null,
            "overflow_y": null,
            "padding": null,
            "right": null,
            "top": null,
            "visibility": null,
            "width": null
          }
        },
        "ca2ae9dcef2e4ce8a27bcc0e778b661c": {
          "model_module": "@jupyter-widgets/controls",
          "model_name": "ProgressStyleModel",
          "model_module_version": "1.5.0",
          "state": {
            "_model_module": "@jupyter-widgets/controls",
            "_model_module_version": "1.5.0",
            "_model_name": "ProgressStyleModel",
            "_view_count": null,
            "_view_module": "@jupyter-widgets/base",
            "_view_module_version": "1.2.0",
            "_view_name": "StyleView",
            "bar_color": null,
            "description_width": ""
          }
        },
        "014adb6939f944fbbf3d6015aea9ab6d": {
          "model_module": "@jupyter-widgets/base",
          "model_name": "LayoutModel",
          "model_module_version": "1.2.0",
          "state": {
            "_model_module": "@jupyter-widgets/base",
            "_model_module_version": "1.2.0",
            "_model_name": "LayoutModel",
            "_view_count": null,
            "_view_module": "@jupyter-widgets/base",
            "_view_module_version": "1.2.0",
            "_view_name": "LayoutView",
            "align_content": null,
            "align_items": null,
            "align_self": null,
            "border": null,
            "bottom": null,
            "display": null,
            "flex": null,
            "flex_flow": null,
            "grid_area": null,
            "grid_auto_columns": null,
            "grid_auto_flow": null,
            "grid_auto_rows": null,
            "grid_column": null,
            "grid_gap": null,
            "grid_row": null,
            "grid_template_areas": null,
            "grid_template_columns": null,
            "grid_template_rows": null,
            "height": null,
            "justify_content": null,
            "justify_items": null,
            "left": null,
            "margin": null,
            "max_height": null,
            "max_width": null,
            "min_height": null,
            "min_width": null,
            "object_fit": null,
            "object_position": null,
            "order": null,
            "overflow": null,
            "overflow_x": null,
            "overflow_y": null,
            "padding": null,
            "right": null,
            "top": null,
            "visibility": null,
            "width": null
          }
        },
        "ab39e7cab2af4082aae43b785d03694e": {
          "model_module": "@jupyter-widgets/controls",
          "model_name": "DescriptionStyleModel",
          "model_module_version": "1.5.0",
          "state": {
            "_model_module": "@jupyter-widgets/controls",
            "_model_module_version": "1.5.0",
            "_model_name": "DescriptionStyleModel",
            "_view_count": null,
            "_view_module": "@jupyter-widgets/base",
            "_view_module_version": "1.2.0",
            "_view_name": "StyleView",
            "description_width": ""
          }
        }
      }
    },
    "gpuClass": "standard"
  },
  "cells": [
    {
      "cell_type": "markdown",
      "metadata": {
        "id": "view-in-github",
        "colab_type": "text"
      },
      "source": [
        "<a href=\"https://colab.research.google.com/github/ymoslem/Adaptive-MT-LLM/blob/main/MT/ChaptGPT-BatchTranslation.ipynb\" target=\"_parent\"><img src=\"https://colab.research.google.com/assets/colab-badge.svg\" alt=\"Open In Colab\"/></a>"
      ]
    },
    {
      "cell_type": "markdown",
      "source": [
        "# Load files"
      ],
      "metadata": {
        "id": "2yFOBmnFLUEN"
      }
    },
    {
      "cell_type": "code",
      "source": [
        "# ✳️ Change target language code\n",
        "tgt = \"es\"  # ar, es, fr, rw, zh\n",
        "\n",
        "# ✳️ Change language\n",
        "source_lang = \"English\"\n",
        "target_lang = \"Spanish\"\n",
        "\n",
        "source_file_name = f\"tico-19-en{tgt}-dedup.en\"\n",
        "target_file_name = f\"tico-19-en{tgt}-dedup.{tgt}\"\n",
        "similar_sentences_file_path = f\"similar-10-tico.{tgt}.json\"\n",
        "\n",
        "output_translation_file_name = f\"tico-enes.gpt-3.5-turbo-zeroshot.translations.{tgt}\""
      ],
      "metadata": {
        "id": "El3TmXy4KjTj"
      },
      "execution_count": 1,
      "outputs": []
    },
    {
      "cell_type": "code",
      "source": [
        "# Download sample files\n",
        "\n",
        "source_url = f\"https://raw.githubusercontent.com/ymoslem/Adaptive-MT-LLM/main/data/tico-19/tico-19-en{tgt}-dedup.en\"\n",
        "target_url = f\"https://raw.githubusercontent.com/ymoslem/Adaptive-MT-LLM/main/data/tico-19/tico-19-en{tgt}-dedup.{tgt}\"\n",
        "fuzzy_url = f\"https://github.com/ymoslem/Adaptive-MT-LLM/raw/main/data/fuzzy_matches/similar-10-tico.{tgt}.json.zip\"\n",
        "\n",
        "# Source\n",
        "!wget -q $source_url -O $source_file_name\n",
        "# Target\n",
        "!wget -q $target_url -O $target_file_name\n",
        "# Fuzzy matches\n",
        "!wget -q $fuzzy_url -O $similar_sentences_file_path\".zip\"\n",
        "!unzip -qq -o $similar_sentences_file_path\".zip\"\n",
        "\n",
        "print(\"Downloaded!\")"
      ],
      "metadata": {
        "id": "ls4P5aKeSeji"
      },
      "execution_count": null,
      "outputs": []
    },
    {
      "cell_type": "code",
      "source": [
        "!ls -lh"
      ],
      "metadata": {
        "id": "B9K4TiL0YIYQ"
      },
      "execution_count": null,
      "outputs": []
    },
    {
      "cell_type": "code",
      "source": [
        "# Load source\n",
        "with open(source_file_name, \"r\") as source:\n",
        "  source_sentences = [sent.strip() for sent in source.readlines()]\n",
        "  print(len(source_sentences))\n",
        "  print(source_sentences[0])\n",
        "\n",
        "# Load target (references)\n",
        "with open(target_file_name, \"r\") as reference:\n",
        "  target_sentences = [sent.strip() for sent in reference.readlines()]\n",
        "  print(len(target_sentences))\n",
        "  print(target_sentences[0])"
      ],
      "metadata": {
        "id": "Z0IYyx_BLHTV"
      },
      "execution_count": null,
      "outputs": []
    },
    {
      "cell_type": "code",
      "source": [
        "# Load similar translations\n",
        "\n",
        "import json\n",
        "\n",
        "with open(similar_sentences_file_path, 'rb') as file_path:\n",
        "  paraphrases = json.load(file_path)\n",
        "\n",
        "print(similar_sentences_file_path, len(paraphrases), sep=\"\\n\", end=\"\\n\\n\")\n",
        "\n",
        "paraphrases[4]"
      ],
      "metadata": {
        "id": "IrTfwn6STkcs"
      },
      "execution_count": null,
      "outputs": []
    },
    {
      "cell_type": "markdown",
      "source": [
        "# Create prompts"
      ],
      "metadata": {
        "id": "DYb9dxsAQtpt"
      }
    },
    {
      "cell_type": "code",
      "source": [
        "!pip3 install tqdm -q"
      ],
      "metadata": {
        "id": "mau7GU2IRFEo"
      },
      "execution_count": 6,
      "outputs": []
    },
    {
      "cell_type": "code",
      "source": [
        "# Create a list of prompts with n SIMILAR examples (fuzzy matches)\n",
        "\n",
        "from tqdm.notebook import tqdm\n",
        "\n",
        "def create_prompt(source_lang: str, \n",
        "                  target_lang: str,\n",
        "                  source_sentences: list,\n",
        "                  target_sentences: list,\n",
        "                  paraphrases=None,\n",
        "                  n_examples=0) -> list:\n",
        "  \n",
        "  \"\"\"Create prompts of the fuzzy matches and the new source sentence to translate\n",
        "  \n",
        "  source_lang: source language, e.g. \"English\"\n",
        "  target_lang: target language, e.g. \"Arabic\"\n",
        "  source_sentences: list of source languages\n",
        "  target_sentences: list of target languages\n",
        "  paraphrases: list of dictionaries for fuzzy matches - default None\n",
        "  n_examples: number of fuzzy matches for each sentence, e.g. 0, 1, 5, 10, etc. - default 0\n",
        "\n",
        "  Returns a list of prompts\n",
        "  \"\"\"\n",
        "\n",
        "  prompts = []\n",
        "\n",
        "  for sentence_pair in tqdm(zip(source_sentences, target_sentences), total=len(source_sentences)):\n",
        "    source_sentence = sentence_pair[0]\n",
        "    target_sentence = sentence_pair[1]\n",
        "\n",
        "    # create one-shot or few-shot prompts\n",
        "    if paraphrases != None and n_examples > 0:\n",
        "      count = 0\n",
        "      fuzzy_context = []\n",
        "      \n",
        "      for paraphrase in paraphrases:\n",
        "        if count == n_examples:\n",
        "            break\n",
        "        elif paraphrase[\"origin_src\"] == source_sentence:\n",
        "          similar_sent_source = paraphrase[\"match_src\"]\n",
        "          similar_sent_target = paraphrase[\"match_tgt\"]\n",
        "          current_prompt = source_lang + \": \" + similar_sent_source + \"\\n\" + \\\n",
        "                            target_lang + \": \" + similar_sent_target\n",
        "          fuzzy_context.append(current_prompt)\n",
        "          count += 1   \n",
        "        elif paraphrase[\"match_src\"] == source_sentence:\n",
        "          similar_sent_source = paraphrase[\"origin_src\"]\n",
        "          similar_sent_target = paraphrase[\"origin_tgt\"]\n",
        "          current_prompt = source_lang + \": \" + similar_sent_source + \"\\n\" + \\\n",
        "                            target_lang + \": \" + similar_sent_target\n",
        "          fuzzy_context.append(current_prompt)\n",
        "          count += 1\n",
        "\n",
        "      fuzzy_context.reverse()\n",
        "      context = \"\\n\".join(fuzzy_context) \n",
        "      prompt = context + \"\\n\" + \\\n",
        "              source_lang + \": \" + source_sentence + \"\\n\" + \\\n",
        "              target_lang + \":\"\n",
        "\n",
        "    # else, create zero-shot prompts\n",
        "    else:\n",
        "      prompt = source_lang + \": \" + source_sentence + \"\\n\" + \\\n",
        "               target_lang + \":\"\n",
        "    \n",
        "    prompts.append(prompt.strip())\n",
        "  \n",
        "  return prompts"
      ],
      "metadata": {
        "id": "l_XXEc-cQvno"
      },
      "execution_count": 8,
      "outputs": []
    },
    {
      "cell_type": "code",
      "source": [
        "prompts = create_prompt(source_lang,\n",
        "                        target_lang,\n",
        "                        source_sentences,\n",
        "                        target_sentences,\n",
        "                        paraphrases,\n",
        "                        n_examples=1\n",
        "                        )"
      ],
      "metadata": {
        "colab": {
          "base_uri": "https://localhost:8080/",
          "height": 49,
          "referenced_widgets": [
            "8cf18e11a6a84c819f87647e9058137b",
            "99f434e6d09448af9a53c531028fdb51",
            "7db14118a3df4b879c6e88dab25cf2eb",
            "e5e26be5deb84263bc67d9b4a725e0a4",
            "8413bffae7094a3fa14e6962695617e1",
            "b9cc92cf18c74d24a0264e3887bce227",
            "187e8ebf1bbf492e9bcbf76a39293193",
            "2704a0f59c8e4496b2d9f14100b40bb7",
            "ca2ae9dcef2e4ce8a27bcc0e778b661c",
            "014adb6939f944fbbf3d6015aea9ab6d",
            "ab39e7cab2af4082aae43b785d03694e"
          ]
        },
        "id": "FVTTpMt8QxKX",
        "outputId": "98ae3dc7-77ef-46c7-e839-a38aabaae5d6"
      },
      "execution_count": 9,
      "outputs": [
        {
          "output_type": "display_data",
          "data": {
            "text/plain": [
              "  0%|          | 0/3070 [00:00<?, ?it/s]"
            ],
            "application/vnd.jupyter.widget-view+json": {
              "version_major": 2,
              "version_minor": 0,
              "model_id": "8cf18e11a6a84c819f87647e9058137b"
            }
          },
          "metadata": {}
        }
      ]
    },
    {
      "cell_type": "code",
      "source": [
        "# Alternatively, to create zero-shot prompts without the previous function\n",
        "# prompts = [source_lang + \": \" + source_sentence + \"\\n\" + target_lang + \":\" \\\n",
        "#           for source_sentence in source_sentences]"
      ],
      "metadata": {
        "id": "YCwnY9TYlIbs"
      },
      "execution_count": null,
      "outputs": []
    },
    {
      "cell_type": "code",
      "source": [
        "print(len(prompts))"
      ],
      "metadata": {
        "id": "lEXh8jiLe6D4"
      },
      "execution_count": null,
      "outputs": []
    },
    {
      "cell_type": "code",
      "source": [
        "print(prompts[0])"
      ],
      "metadata": {
        "id": "EnyHKp01TW1c"
      },
      "execution_count": null,
      "outputs": []
    },
    {
      "cell_type": "markdown",
      "source": [
        "# Generation"
      ],
      "metadata": {
        "id": "FXV2gNR-LWu1"
      }
    },
    {
      "cell_type": "code",
      "execution_count": null,
      "metadata": {
        "id": "HeVV8GubKcHV",
        "colab": {
          "base_uri": "https://localhost:8080/"
        },
        "outputId": "04848d64-b8fd-4358-f866-76a2fdc120d6"
      },
      "outputs": [
        {
          "output_type": "stream",
          "name": "stdout",
          "text": [
            "\u001b[2K     \u001b[90m━━━━━━━━━━━━━━━━━━━━━━━━━━━━━━━━━━━━━━━━\u001b[0m \u001b[32m71.6/71.6 kB\u001b[0m \u001b[31m8.7 MB/s\u001b[0m eta \u001b[36m0:00:00\u001b[0m\n",
            "\u001b[2K     \u001b[90m━━━━━━━━━━━━━━━━━━━━━━━━━━━━━━━━━━━━━━━━\u001b[0m \u001b[32m1.0/1.0 MB\u001b[0m \u001b[31m45.3 MB/s\u001b[0m eta \u001b[36m0:00:00\u001b[0m\n",
            "\u001b[2K     \u001b[90m━━━━━━━━━━━━━━━━━━━━━━━━━━━━━━━━━━━━━━\u001b[0m \u001b[32m268.8/268.8 kB\u001b[0m \u001b[31m26.5 MB/s\u001b[0m eta \u001b[36m0:00:00\u001b[0m\n",
            "\u001b[2K     \u001b[90m━━━━━━━━━━━━━━━━━━━━━━━━━━━━━━━━━━━━━━\u001b[0m \u001b[32m114.5/114.5 kB\u001b[0m \u001b[31m12.0 MB/s\u001b[0m eta \u001b[36m0:00:00\u001b[0m\n",
            "\u001b[2K     \u001b[90m━━━━━━━━━━━━━━━━━━━━━━━━━━━━━━━━━━━━━━\u001b[0m \u001b[32m149.6/149.6 kB\u001b[0m \u001b[31m14.3 MB/s\u001b[0m eta \u001b[36m0:00:00\u001b[0m\n",
            "\u001b[?25h"
          ]
        }
      ],
      "source": [
        "!pip3 install openai -q"
      ]
    },
    {
      "cell_type": "code",
      "source": [
        "# ChatGPT generation function\n",
        "# model: You can change \"gpt-3.5-turbo\" to \"gpt-4\", but for higher costs!\n",
        "\n",
        "import openai\n",
        "from tenacity import retry, stop_after_attempt, wait_random_exponential\n",
        "\n",
        "\n",
        "# ✳️ Add your OpenAI API key \n",
        "OPENAI_API_KEY = \"your-API-key-here\"\n",
        "openai.api_key = OPENAI_API_KEY\n",
        "\n",
        "@retry(wait=wait_random_exponential(min=2, max=60), stop=stop_after_attempt(6))\n",
        "def translate(prompt, max_tokens, temperature=0.3, top_p=1):\n",
        "  response = openai.ChatCompletion.create(\n",
        "                                          model=\"gpt-3.5-turbo\",\n",
        "                                          temperature=temperature,\n",
        "                                          max_tokens=max_tokens,\n",
        "                                          messages=[\n",
        "                                          {\"role\": \"user\",\n",
        "                                          \"content\": prompt}\n",
        "                                          ],\n",
        "                                          top_p=top_p,\n",
        "                                          frequency_penalty=0,\n",
        "                                          presence_penalty=0,\n",
        "                                          n=1,\n",
        "                                          #stop=[\"\\n\"],\n",
        "  )\n",
        "  \n",
        "  return response"
      ],
      "metadata": {
        "id": "5nm0YbcxLIB0"
      },
      "execution_count": null,
      "outputs": []
    },
    {
      "cell_type": "markdown",
      "source": [
        "## Batch Processing"
      ],
      "metadata": {
        "id": "icn7U4ODL1Pw"
      }
    },
    {
      "cell_type": "code",
      "source": [
        "# Sending batch requsets\n",
        "\n",
        "from concurrent import futures\n",
        "from concurrent.futures import ThreadPoolExecutor\n",
        "\n",
        "num_workers = 128\n",
        "\n",
        "def batch_translate(prompts, **kwargs):\n",
        "  \"\"\"A batched version of generate with multiple prompts.\"\"\"\n",
        "  with futures.ThreadPoolExecutor(max_workers=num_workers) as executor:\n",
        "    response = executor.map(lambda prompt: translate(prompt=prompt, **kwargs), prompts)\n",
        "  return list(response)"
      ],
      "metadata": {
        "id": "iIXH8GVHLb7g"
      },
      "execution_count": null,
      "outputs": []
    },
    {
      "cell_type": "code",
      "source": [
        "# Devide a long list of source sentences into smaller batches\n",
        "\n",
        "def divide_chunks(l, n):\n",
        "  # looping till length l\n",
        "  for i in range(0, len(l), n):\n",
        "    yield l[i:i + n]"
      ],
      "metadata": {
        "id": "BM-0YkZuR0ce"
      },
      "execution_count": null,
      "outputs": []
    },
    {
      "cell_type": "code",
      "source": [
        "# Parameters\n",
        "\n",
        "temperature = 0.3\n",
        "top_p = 1\n",
        "\n",
        "# ✳️ Change the batch size for longer inputs/outputs\n",
        "batch_size = 50\n",
        "\n",
        "# ✳️ Change number of source words vs target tokens.\n",
        "# Try 4 for French and Spanish; it can be 5 for some other languages like Arabic.\n",
        "# You can also use the \"tiktoken\" library to tokenize the source,\n",
        "# and then length_multiplier can be based on tokens rather than words.\n",
        "length_multiplier = 4"
      ],
      "metadata": {
        "id": "qjpu8ANWfFIk"
      },
      "execution_count": null,
      "outputs": []
    },
    {
      "cell_type": "code",
      "source": [
        "# Batch translation\n",
        "\n",
        "from tqdm.notebook import tqdm\n",
        "from time import sleep\n",
        "\n",
        "\n",
        "# Translate\n",
        "translations = []\n",
        "total = int(len(prompts)/batch_size)\n",
        "\n",
        "for chunk_prompts in tqdm(divide_chunks(prompts, batch_size), total=total):\n",
        "  length = [len(prompt.split(\"\\n\")[-2].split(\" \")[1:]) for prompt in chunk_prompts]\n",
        "  max_len = max(length) * length_multiplier\n",
        "\n",
        "  outputs = batch_translate(prompts = chunk_prompts,\n",
        "                            max_tokens = max_len,\n",
        "                            temperature=temperature,\n",
        "                            top_p = top_p)\n",
        "  batch_translations = [output[\"choices\"][0][\"message\"][\"content\"].strip() for output in outputs]\n",
        "  translations += batch_translations\n",
        "  \n",
        "  sleep(3)\n",
        "\n",
        "\n",
        "# Report stats\n",
        "print(\"Translations:\", len(translations), end=\"\\n\\n\")\n",
        "print(\"• Last Translation:\")\n",
        "print(\"Prompt Tokens:\", outputs[-1][\"usage\"][\"prompt_tokens\"])\n",
        "print(\"Completion Tokens:\", outputs[-1][\"usage\"][\"completion_tokens\"])\n",
        "print(\"Total Tokens:\", outputs[-1][\"usage\"][\"total_tokens\"], end=\"\\n\\n\")\n",
        "print(prompts[-1], end=\" \")\n",
        "print(translations[-1], sep=\"\\n\")"
      ],
      "metadata": {
        "id": "Y2tbPOetSByU"
      },
      "execution_count": null,
      "outputs": []
    },
    {
      "cell_type": "code",
      "source": [
        "# Print the first 5 translations\n",
        "print(*translations[:5], sep=\"\\n\")"
      ],
      "metadata": {
        "id": "rg4K3jvGd7SY"
      },
      "execution_count": null,
      "outputs": []
    },
    {
      "cell_type": "markdown",
      "source": [
        "# Save translations"
      ],
      "metadata": {
        "id": "R3pP-eLLpo4a"
      }
    },
    {
      "cell_type": "code",
      "source": [
        "!pip3 install nltk -q\n",
        "\n",
        "import nltk\n",
        "nltk.download(\"punkt\")"
      ],
      "metadata": {
        "id": "Leh_WArOqLd0"
      },
      "execution_count": null,
      "outputs": []
    },
    {
      "cell_type": "code",
      "source": [
        "# Save translations to a file\n",
        "# This code also handles over-generation\n",
        "\n",
        "from nltk import sent_tokenize, word_tokenize\n",
        "import os\n",
        "\n",
        "# ✳️ Where to save the translations\n",
        "# It is better to connect Google Drive, and change 'directory'\n",
        "directory = \"\"\n",
        "output_file_name = output_translation_file_name\n",
        "output_path = os.path.join(directory, output_file_name)\n",
        "\n",
        "with open(output_path, \"w+\") as translated_file:\n",
        "  for source, translation in zip(source_sentences, translations):\n",
        "    translation = translation.strip()\n",
        "    if \"\\n\" in translation:\n",
        "      translation = translation.split(\"\\n\")[0]\n",
        "      translated_file.write(translation.strip() + \"\\n\")\n",
        "    elif len(sent_tokenize(translation)) > len(sent_tokenize(source)) and len(word_tokenize(translation)) > len(word_tokenize(source))*2:\n",
        "      translation = sent_tokenize(translation)[0]\n",
        "      translated_file.write(translation.strip() + \"\\n\")\n",
        "    else:\n",
        "      translated_file.write(translation.strip() + \"\\n\")\n",
        "\n",
        "print(\"Translation file saved at:\", output_path)"
      ],
      "metadata": {
        "colab": {
          "base_uri": "https://localhost:8080/"
        },
        "id": "MwQk9YgIpn4v",
        "outputId": "eb4e3ff0-47ba-4232-f2d5-a492543bb6c8"
      },
      "execution_count": null,
      "outputs": [
        {
          "output_type": "stream",
          "name": "stdout",
          "text": [
            "Translation file saved at: tico-enes.gpt-3.5-turbo-zeroshot.translations.ar\n"
          ]
        }
      ]
    },
    {
      "cell_type": "markdown",
      "source": [
        "## Save to Google Drive"
      ],
      "metadata": {
        "id": "QInT7JTxodNf"
      }
    },
    {
      "cell_type": "code",
      "source": [
        "from google.colab import drive\n",
        "drive.mount(\"/content/drive\")"
      ],
      "metadata": {
        "id": "9Nkcc3JNogPr"
      },
      "execution_count": null,
      "outputs": []
    },
    {
      "cell_type": "code",
      "source": [
        "!mkdir /content/drive/MyDrive/chatGPT-translations/"
      ],
      "metadata": {
        "id": "h5mTCRVUwCYP"
      },
      "execution_count": null,
      "outputs": []
    },
    {
      "cell_type": "code",
      "source": [
        "new_path = f\"/content/drive/MyDrive/chatGPT-translations/tico-en{tgt}.gpt3-turbo-zeroshot.{tgt}\"\n",
        "\n",
        "!mv -nv $output_path $new_path"
      ],
      "metadata": {
        "id": "Lq64qoU8m2FG"
      },
      "execution_count": null,
      "outputs": []
    }
  ]
}