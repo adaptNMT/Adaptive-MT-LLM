{
  "nbformat": 4,
  "nbformat_minor": 0,
  "metadata": {
    "colab": {
      "provenance": [],
      "mount_file_id": "1d6rVdHq09Fv3mLeWGs11GjI18nR2y4tP",
      "authorship_tag": "ABX9TyMi4YctCFYACC0qxSmgVEHi",
      "include_colab_link": true
    },
    "kernelspec": {
      "name": "python3",
      "display_name": "Python 3"
    },
    "language_info": {
      "name": "python"
    }
  },
  "cells": [
    {
      "cell_type": "markdown",
      "metadata": {
        "id": "view-in-github",
        "colab_type": "text"
      },
      "source": [
        "<a href=\"https://colab.research.google.com/github/ymoslem/Adaptive-MT-LLM/blob/main/MT/DeepL.ipynb\" target=\"_parent\"><img src=\"https://colab.research.google.com/assets/colab-badge.svg\" alt=\"Open In Colab\"/></a>"
      ]
    },
    {
      "cell_type": "markdown",
      "source": [
        "# DeepL API\n",
        "\n",
        "Register to get your API at: https://www.deepl.com/pro-api"
      ],
      "metadata": {
        "id": "px97_oiP7Mtw"
      }
    },
    {
      "cell_type": "code",
      "execution_count": null,
      "metadata": {
        "id": "qhoLmE5mJYw3"
      },
      "outputs": [],
      "source": [
        "import requests\n",
        "\n",
        "# ✳️ List of source sentences to be translated\n",
        "texts = [\"Hello\", \"Thanks!\"]\n",
        "\n",
        "# ✳️ Change the source and target language codes\n",
        "source_lang = \"EN\" \n",
        "target_lang = \"FR\"  # \"ES\", \"ZH\", etc\n",
        "\n",
        "# ✳️ Use only one URL based on whether you have a free or paid account\n",
        "\n",
        "# If you are using a free trial\n",
        "API_free_translation_endpoint = \"https://api-free.deepl.com/v2/translate\"\n",
        "# If you have a paid account\n",
        "API_translation_endpoint = \"https://api.deepl.com/v2/translate\"\n",
        "\n",
        "# ✳️ Change this to your API key\n",
        "API_Auth_Key = \"DeepL-Auth-Key rest_of_your_key_here\"  \n",
        "\n",
        "\n",
        "headers = {\n",
        "    'Authorization': API_Auth_Key\n",
        "}\n",
        "\n",
        "data={\"text\": texts,\n",
        "      \"source_lang\": source_lang,\n",
        "      \"target_lang\": target_lang,\n",
        "  }\n",
        "\n",
        "response = requests.post(API_translation_endpoint, headers=headers, data=data)\n",
        "\n",
        "if response.status_code == 200:\n",
        "  print(response.text)\n",
        "else:\n",
        "  print(response.status_code)"
      ]
    },
    {
      "cell_type": "code",
      "source": [
        "import json\n",
        "response_json = json.loads(response.text)\n",
        "\n",
        "translations = [output[\"text\"] for output in response_json[\"translations\"]]\n",
        "print(translations)"
      ],
      "metadata": {
        "id": "PyEFJGOlOY2L"
      },
      "execution_count": null,
      "outputs": []
    },
    {
      "cell_type": "markdown",
      "source": [
        "# Full file translation"
      ],
      "metadata": {
        "id": "cUf3L9Kg3l7a"
      }
    },
    {
      "cell_type": "code",
      "source": [
        "# Open files\n",
        "\n",
        "import os\n",
        "\n",
        "# ✳️ Change directory where the files are located\n",
        "os.chdir(\"/content/drive/MyDrive/data/\")\n",
        "\n",
        "# ✳️ Change file names\n",
        "src_file = \"tico-19-enfr-dedup.en\"\n",
        "tgt_file = \"tico-19-enfr-dedup.fr\"\n",
        "\n",
        "\n",
        "with open(src_file) as src, open(tgt_file) as tgt:\n",
        "  source_sentences = [sent.strip() for sent in src.readlines()]\n",
        "  target_sentences = [sent.strip() for sent in tgt.readlines()]\n",
        "\n",
        "  print(source_sentences[0])\n",
        "  print(target_sentences[0])"
      ],
      "metadata": {
        "id": "hnWvsvZrOo8U"
      },
      "execution_count": null,
      "outputs": []
    },
    {
      "cell_type": "code",
      "source": [
        "# Devide a long list of source sentences into smaller chucks\n",
        "# to fit into an API request\n",
        "\n",
        "def divide_chunks(l, n):\n",
        "  # looping till length l\n",
        "  for i in range(0, len(l), n):\n",
        "    yield l[i:i + n]"
      ],
      "metadata": {
        "id": "3sZOFzg3PR0k"
      },
      "execution_count": null,
      "outputs": []
    },
    {
      "cell_type": "code",
      "source": [
        "import requests\n",
        "import json\n",
        "from tqdm.notebook import tqdm\n",
        "\n",
        "# ✳️ Change the source and target language codes\n",
        "source_lang = \"EN\"\n",
        "target_lang = \"FR\"\n",
        "\n",
        "headers = {\n",
        "    'Authorization': API_Auth_Key\n",
        "}\n",
        "\n",
        "n = 100\n",
        "total = int(len(source_sentences) / n)\n",
        "\n",
        "translations = []\n",
        "for chunk_source_sentences in tqdm(divide_chunks(source_sentences, n), total=total):\n",
        "  data={\"text\": chunk_source_sentences,\n",
        "       \"source_lang\": source_lang,\n",
        "       \"target_lang\": target_lang,\n",
        "  }\n",
        "  response = requests.post(API_translation_endpoint, headers=headers, data=data)\n",
        "  \n",
        "  if response.status_code == 200:\n",
        "    response_json = json.loads(response.text)\n",
        "    chunk_translations = [output[\"text\"] for output in response_json[\"translations\"]]\n",
        "    translations += chunk_translations\n",
        "  else:\n",
        "    print(response.status_code)\n",
        "    break"
      ],
      "metadata": {
        "id": "K1wiKEZSPYuM"
      },
      "execution_count": null,
      "outputs": []
    },
    {
      "cell_type": "code",
      "source": [
        "# Print the length of generated translations\n",
        "print(len(translations))"
      ],
      "metadata": {
        "id": "Ogr3kFUSP5tk"
      },
      "execution_count": null,
      "outputs": []
    },
    {
      "cell_type": "code",
      "source": [
        "# Print the first 5 translations\n",
        "print(*translations[:5], sep=\"\\n\")"
      ],
      "metadata": {
        "id": "zUzZWg8_RCSs"
      },
      "execution_count": null,
      "outputs": []
    },
    {
      "cell_type": "code",
      "source": [
        "import os\n",
        "\n",
        "# ✳️ Change directory where the files should be saved\n",
        "os.chdir(\"/content/drive/MyDrive/data/\")\n",
        "\n",
        "# ✳️ Change file name\n",
        "translations_file = \"tico-19-enfr-deepl.fr\"\n",
        "\n",
        "# Save translations\n",
        "with open(translations_file, \"w+\") as output:\n",
        "  for translation in translations:\n",
        "    output.write(translation.strip() + \"\\n\")\n",
        "\n",
        "print(\"Translation file saved at:\", translations_file)"
      ],
      "metadata": {
        "id": "6bS1v_OfSUlk"
      },
      "execution_count": null,
      "outputs": []
    }
  ]
}