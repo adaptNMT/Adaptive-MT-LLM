{
  "nbformat": 4,
  "nbformat_minor": 0,
  "metadata": {
    "colab": {
      "provenance": [],
      "mount_file_id": "1SIeFxFW12eiX4uFRs2qWvfavMMu51TNv",
      "authorship_tag": "ABX9TyMNHVcqwhLuXegZ1zT5KuFD",
      "include_colab_link": true
    },
    "kernelspec": {
      "name": "python3",
      "display_name": "Python 3"
    },
    "language_info": {
      "name": "python"
    }
  },
  "cells": [
    {
      "cell_type": "markdown",
      "metadata": {
        "id": "view-in-github",
        "colab_type": "text"
      },
      "source": [
        "<a href=\"https://colab.research.google.com/github/ymoslem/Adaptive-MT-LLM/blob/main/MT/GoogleTranslate.ipynb\" target=\"_parent\"><img src=\"https://colab.research.google.com/assets/colab-badge.svg\" alt=\"Open In Colab\"/></a>"
      ]
    },
    {
      "cell_type": "markdown",
      "source": [
        "# Google Cloud Translation API\n",
        "\n",
        "0. [Overview and Documentation](https://cloud.google.com/translate)\n",
        "1. [Select or create a Cloud Platform project](https://console.cloud.google.com/cloud-resource-manager).\n",
        "2. [Enable billing for your project](https://cloud.google.com/billing/docs/how-to/modify-project#enable_billing_for_a_project).\n",
        "3. [Enable the Cloud Translation API](https://console.cloud.google.com/apis/library/translate.googleapis.com).\n",
        "4. Setup Authentication (see the next two cells)"
      ],
      "metadata": {
        "id": "WkqF-XBR98QR"
      }
    },
    {
      "cell_type": "code",
      "source": [
        "!pip3 install google-auth tqdm -q"
      ],
      "metadata": {
        "id": "jMbPKa6n3p4q"
      },
      "execution_count": null,
      "outputs": []
    },
    {
      "cell_type": "code",
      "source": [
        "# Run these commands for authentication\n",
        "!gcloud init --console-only --skip-diagnostics\n",
        "!gcloud auth application-default login"
      ],
      "metadata": {
        "id": "za0GzHbM4A5G"
      },
      "execution_count": null,
      "outputs": []
    },
    {
      "cell_type": "code",
      "source": [
        "from google.cloud import translate_v2 as translate\n",
        "\n",
        "def translate_multiple_sentences(target, text_list, model=\"nmt\"):\n",
        "    translate_client = translate.Client()\n",
        "\n",
        "    result = translate_client.translate(text_list, target_language=target, model=model)\n",
        "\n",
        "    return [output[\"translatedText\"] for output in result]"
      ],
      "metadata": {
        "id": "OYMQ0_5e2SpY"
      },
      "execution_count": null,
      "outputs": []
    },
    {
      "cell_type": "code",
      "source": [
        "# The target must be an ISO 639-1 language code, e.g. \"ar\", \"en\", \"fr\", etc.\n",
        "# https://cloud.google.com/translate/docs/basic/discovering-supported-languages#translate_list_codes-python\n",
        "\n",
        "translation = translate_multiple_sentences(\"ar\", [\"Hello World!\", \"What do you think?\"])\n",
        "print(translation)"
      ],
      "metadata": {
        "colab": {
          "base_uri": "https://localhost:8080/"
        },
        "id": "7ZzWcPjQ2_2d",
        "outputId": "00225335-5818-4113-e1ab-31dfd75874a7"
      },
      "execution_count": null,
      "outputs": [
        {
          "output_type": "stream",
          "name": "stdout",
          "text": [
            "['مرحبا بالعالم!', 'ماذا تعتقد؟']\n"
          ]
        }
      ]
    },
    {
      "cell_type": "markdown",
      "source": [
        "# Full file translation"
      ],
      "metadata": {
        "id": "ywcwJDQplUok"
      }
    },
    {
      "cell_type": "code",
      "source": [
        "# Download sample files\n",
        "\n",
        "# Source\n",
        "!wget https://raw.githubusercontent.com/ymoslem/Adaptive-MT-LLM/main/data/tico-19/tico-19-enes-dedup.en\n",
        "# Target\n",
        "!wget https://raw.githubusercontent.com/ymoslem/Adaptive-MT-LLM/main/data/tico-19/tico-19-enes-dedup.es"
      ],
      "metadata": {
        "id": "nGXAaAJIlh4k"
      },
      "execution_count": null,
      "outputs": []
    },
    {
      "cell_type": "code",
      "source": [
        "# Open files\n",
        "\n",
        "# ✳️ Change file paths and names\n",
        "src_file = \"tico-19-enes-dedup.en\"\n",
        "tgt_file = \"tico-19-enes-dedup.es\"\n",
        "\n",
        "\n",
        "with open(src_file) as src, open(tgt_file) as tgt:\n",
        "  source_sentences = [sent.strip() for sent in src.readlines()]\n",
        "  target_sentences = [sent.strip() for sent in tgt.readlines()]\n",
        "\n",
        "  print(source_sentences[0])\n",
        "  print(target_sentences[0])"
      ],
      "metadata": {
        "id": "JtlPnE3dBgP_"
      },
      "execution_count": null,
      "outputs": []
    },
    {
      "cell_type": "code",
      "source": [
        "# Devide a long list of source sentences into smaller chucks\n",
        "# to fit into an API request\n",
        "\n",
        "def divide_chunks(l, n):\n",
        "    # looping till length l\n",
        "    for i in range(0, len(l), n):\n",
        "        yield l[i:i + n]"
      ],
      "metadata": {
        "id": "royggwru4UqF"
      },
      "execution_count": null,
      "outputs": []
    },
    {
      "cell_type": "code",
      "source": [
        "# ✳️ Change the target language code\n",
        "tgt_lang = \"es\"  # Spanish\n",
        "\n",
        "# Translate\n",
        "translations = []\n",
        "for chunk in divide_chunks(source_sentences, 100):\n",
        "  chunk_translations = translate_multiple_sentences(tgt_lang, chunk)\n",
        "  translations += chunk_translations"
      ],
      "metadata": {
        "id": "Ikvz8V2Y3GYA"
      },
      "execution_count": null,
      "outputs": []
    },
    {
      "cell_type": "code",
      "source": [
        "# Print the length of generated translations\n",
        "print(len(translations))"
      ],
      "metadata": {
        "id": "QJJXMQbh5fmm"
      },
      "execution_count": null,
      "outputs": []
    },
    {
      "cell_type": "code",
      "source": [
        "# Print the first 5 translations\n",
        "print(*translations[:5], sep=\"\\n\")"
      ],
      "metadata": {
        "id": "aMPk4O75I0zx"
      },
      "execution_count": null,
      "outputs": []
    },
    {
      "cell_type": "code",
      "source": [
        "# Save the translation file\n",
        "\n",
        "# ✳️ Change file path and name\n",
        "translations_file = \"tico-19-enes-google.es\"\n",
        "\n",
        "# Save translations\n",
        "with open(translations_file, \"w+\") as output:\n",
        "  for translation in translations:\n",
        "    output.write(translation.strip() + \"\\n\")\n",
        "\n",
        "print(\"Translation file saved at:\", translations_file)"
      ],
      "metadata": {
        "id": "MzFoqsUm8S8y"
      },
      "execution_count": null,
      "outputs": []
    }
  ]
}