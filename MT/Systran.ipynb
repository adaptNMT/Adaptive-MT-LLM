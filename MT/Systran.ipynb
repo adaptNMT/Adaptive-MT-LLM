{
  "nbformat": 4,
  "nbformat_minor": 0,
  "metadata": {
    "colab": {
      "provenance": [],
      "mount_file_id": "1yd0lhFzlKacPg52ICJkhbsVldf3gIxd9",
      "authorship_tag": "ABX9TyP/YLXqlxea0m42PyUsW9ty",
      "include_colab_link": true
    },
    "kernelspec": {
      "name": "python3",
      "display_name": "Python 3"
    },
    "language_info": {
      "name": "python"
    }
  },
  "cells": [
    {
      "cell_type": "markdown",
      "metadata": {
        "id": "view-in-github",
        "colab_type": "text"
      },
      "source": [
        "<a href=\"https://colab.research.google.com/github/ymoslem/Adaptive-MT-LLM/blob/main/MT/Systran.ipynb\" target=\"_parent\"><img src=\"https://colab.research.google.com/assets/colab-badge.svg\" alt=\"Open In Colab\"/></a>"
      ]
    },
    {
      "cell_type": "markdown",
      "source": [
        "# Systran Translate API\n",
        "\n",
        "* Register to get your API key at: https://www.systran.net/\n",
        "* Documentation: https://docs.systran.net/translateAPI/translation/"
      ],
      "metadata": {
        "id": "MLb8SGLjtdfA"
      }
    },
    {
      "cell_type": "code",
      "execution_count": null,
      "metadata": {
        "colab": {
          "base_uri": "https://localhost:8080/",
          "height": 35
        },
        "id": "DRmCnr1bZ8re",
        "outputId": "c110ff9a-098c-4413-c7c6-5e021f092714"
      },
      "outputs": [
        {
          "output_type": "execute_result",
          "data": {
            "text/plain": [
              "'{\"version\":\"2.9.0\"}'"
            ],
            "application/vnd.google.colaboratory.intrinsic+json": {
              "type": "string"
            }
          },
          "metadata": {},
          "execution_count": 2
        }
      ],
      "source": [
        "import requests\n",
        "\n",
        "API_KEY = \"your_api_key_here\"\n",
        "API_URL = \"https://api-translate.systran.net\"\n",
        "API_VERSION_ENDPOINT = \"/translation/apiVersion/?key=\"\n",
        "\n",
        "response = requests.get(API_URL + API_VERSION_ENDPOINT + API_KEY)\n",
        "response.text"
      ]
    },
    {
      "cell_type": "code",
      "source": [
        "input1 = \"Hello\"\n",
        "input2 = \"Thanks!\"\n",
        "\n",
        "target = \"fr\"\n",
        "\n",
        "API_translation_endpoint = \"/translation/text/translate/\"\n",
        "\n",
        "response = requests.post(API_URL + API_translation_endpoint, data={\"key\": API_KEY,\n",
        "                                                                   \"input\": [input1, input2],\n",
        "                                                                   \"target\": target,\n",
        "                                                                   })\n",
        "response.text"
      ],
      "metadata": {
        "colab": {
          "base_uri": "https://localhost:8080/",
          "height": 35
        },
        "id": "mX_kTRw7dfKI",
        "outputId": "6ad146de-dc35-49c5-fc1c-0d21bac55423"
      },
      "execution_count": null,
      "outputs": [
        {
          "output_type": "execute_result",
          "data": {
            "text/plain": [
              "'{\"outputs\":[{\"output\":\"Bonjour\"},{\"output\":\"Merci !\"}]}'"
            ],
            "application/vnd.google.colaboratory.intrinsic+json": {
              "type": "string"
            }
          },
          "metadata": {},
          "execution_count": 3
        }
      ]
    },
    {
      "cell_type": "code",
      "source": [
        "import json\n",
        "response_json = json.loads(response.text)\n",
        "\n",
        "translations = [output[\"output\"] for output in response_json[\"outputs\"]]\n",
        "translations"
      ],
      "metadata": {
        "colab": {
          "base_uri": "https://localhost:8080/"
        },
        "id": "1R9m6U6vlJHA",
        "outputId": "f49e21b1-9a0e-4e37-ef3c-a928659da745"
      },
      "execution_count": null,
      "outputs": [
        {
          "output_type": "execute_result",
          "data": {
            "text/plain": [
              "['Bonjour', 'Merci !']"
            ]
          },
          "metadata": {},
          "execution_count": 28
        }
      ]
    },
    {
      "cell_type": "markdown",
      "source": [
        "# Full file translation"
      ],
      "metadata": {
        "id": "_tY-B11AsxNH"
      }
    },
    {
      "cell_type": "code",
      "source": [
        "# Download sample files\n",
        "\n",
        "# Source\n",
        "!wget -q --show-progress https://raw.githubusercontent.com/ymoslem/Adaptive-MT-LLM/main/data/tico-19/tico-19-enfr-dedup.en\n",
        "# Target\n",
        "!wget -q --show-progress https://raw.githubusercontent.com/ymoslem/Adaptive-MT-LLM/main/data/tico-19/tico-19-enfr-dedup.fr"
      ],
      "metadata": {
        "colab": {
          "base_uri": "https://localhost:8080/"
        },
        "id": "6SiM3zUGs0EO",
        "outputId": "083c6232-b46a-46f9-83a4-b94aef3e8d24"
      },
      "execution_count": 2,
      "outputs": [
        {
          "output_type": "stream",
          "name": "stdout",
          "text": [
            "tico-19-enfr-dedup. 100%[===================>] 446.61K  --.-KB/s    in 0.005s  \n",
            "tico-19-enfr-dedup. 100%[===================>] 554.30K  --.-KB/s    in 0.007s  \n"
          ]
        }
      ]
    },
    {
      "cell_type": "code",
      "source": [
        "# Open files\n",
        "\n",
        "src_file = \"tico-19-enfr-dedup.en\"\n",
        "tgt_file = \"tico-19-enfr-dedup.fr\"\n",
        "\n",
        "with open(src_file) as src, open(tgt_file) as tgt:\n",
        "  source_sentences = [sent.strip() for sent in src.readlines()]\n",
        "  target_sentences = [sent.strip() for sent in tgt.readlines()]\n",
        "\n",
        "  print(source_sentences[0])\n",
        "  print(target_sentences[0])"
      ],
      "metadata": {
        "colab": {
          "base_uri": "https://localhost:8080/"
        },
        "id": "An8snaRZk1Qg",
        "outputId": "8da3d334-2c0d-40e5-f43b-5e2559db18c7"
      },
      "execution_count": 3,
      "outputs": [
        {
          "output_type": "stream",
          "name": "stdout",
          "text": [
            "Chinese New Year (25 January) celebrations were cancelled in many places.\n",
            "Les célébrations du Nouvel An chinois (le 25 janvier) ont été annulées en de nombreux endroits.\n"
          ]
        }
      ]
    },
    {
      "cell_type": "code",
      "source": [
        "# Devide a long list of source sentences into smaller chucks\n",
        "# to fit into an API request\n",
        "\n",
        "def divide_chunks(l, n):\n",
        "  # looping till length l\n",
        "  for i in range(0, len(l), n):\n",
        "    yield l[i:i + n]"
      ],
      "metadata": {
        "id": "EhUzat4jl9nD"
      },
      "execution_count": null,
      "outputs": []
    },
    {
      "cell_type": "code",
      "source": [
        "# ✳️ Change the source and target language codes\n",
        "\n",
        "source_lang = \"en\"\n",
        "target_lang = \"fr\"\n",
        "\n",
        "translations = []\n",
        "for chunk_source_sentences in divide_chunks(source_sentences, 100):\n",
        "  response = requests.post(API_URL + API_translation_endpoint, data={\"key\": API_KEY,\n",
        "                                                                   \"input\": chunk_source_sentences,\n",
        "                                                                   \"source\": source_lang,\n",
        "                                                                   \"target\": target_lang,\n",
        "                                                                   })\n",
        "  \n",
        "  if response.status_code == 200:\n",
        "    response_json = json.loads(response.text)\n",
        "    chunk_translations = [output[\"output\"] for output in response_json[\"outputs\"]]\n",
        "    translations += chunk_translations\n",
        "  else:\n",
        "    print(response.status_code)\n",
        "    break"
      ],
      "metadata": {
        "id": "46XP5ReHmcPe"
      },
      "execution_count": null,
      "outputs": []
    },
    {
      "cell_type": "code",
      "source": [
        "# Print the length of generated translations\n",
        "print(len(translations))"
      ],
      "metadata": {
        "colab": {
          "base_uri": "https://localhost:8080/"
        },
        "id": "KrVZoNldnIL5",
        "outputId": "f8cd3d46-aacb-4468-833a-b1171cce7842"
      },
      "execution_count": null,
      "outputs": [
        {
          "output_type": "stream",
          "name": "stdout",
          "text": [
            "3070\n"
          ]
        }
      ]
    },
    {
      "cell_type": "code",
      "source": [
        "# Print the first 10 translations\n",
        "print(*translations[:10], sep=\"\\n\")"
      ],
      "metadata": {
        "colab": {
          "base_uri": "https://localhost:8080/"
        },
        "id": "gPhddz8UpIrI",
        "outputId": "18b2a6bb-84f5-4de2-d27f-737f9396519e"
      },
      "execution_count": null,
      "outputs": [
        {
          "output_type": "stream",
          "name": "stdout",
          "text": [
            "Les célébrations du Nouvel An chinois (25 janvier) ont été annulées dans de nombreux endroits.\n",
            "avez-vous d'autres maladies ou problèmes médicaux chroniques comme le diabète?\n",
            "Seuls quelques patients immunodéprimés ont présenté une infection sévère des voies respiratoires inférieures.\n",
            "Il est fréquent que les personnes qui sont exposées à un grand nombre de virus ou dont les fonctions immunitaires sont affaiblies aient un risque plus élevé d’être infectées que les autres.\n",
            "L'estimation la plus optimiste est que l'épidémie prendra fin en mars et que la phase de ralentissement durera de 3 à 4 mois.\n",
            "Les cinq autres bêta-CoV comprennent HCoV-OC43, HCoV-HKU1, le coronavirus du syndrome respiratoire aigu sévère (SARS-CoV), le coronavirus du syndrome respiratoire du Moyen-Orient (MERS-CoV) et le SARS-CoV-2.\n",
            "Le 26 mars, 1,7 milliard de personnes dans le monde étaient sous une forme ou une autre de confinement, qui a augmenté à 2,6 milliards de personnes deux jours plus tard, soit environ un tiers de la population mondiale.\n",
            "La semaine dernière, quelqu'un a partagé avec moi son appréciation pour notre travail.\n",
            "La prévalence de la BPCO ajustée selon l’âge chez les adultes américains est de 5,9 %, et en 2018, la prévalence estimée de l’asthme actuel aux États-Unis chez les personnes de tous âges était de 7,9 %.\n",
            "Quatre coronavirus humains produisent des symptômes généralement bénins :\n"
          ]
        }
      ]
    },
    {
      "cell_type": "code",
      "source": [
        "# Save the translation file\n",
        "\n",
        "# 🟢 Change file path and name\n",
        "translations_file = \"tico-19-enfr-systran.fr\"\n",
        "\n",
        "# Save translations\n",
        "with open(translations_file, \"w+\") as output:\n",
        "  for translation in translations:\n",
        "    output.write(translation.strip() + \"\\n\")"
      ],
      "metadata": {
        "id": "I8EKW5Ecp6KS"
      },
      "execution_count": null,
      "outputs": []
    }
  ]
}