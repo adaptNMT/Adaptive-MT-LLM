{
  "nbformat": 4,
  "nbformat_minor": 0,
  "metadata": {
    "colab": {
      "provenance": [],
      "authorship_tag": "ABX9TyNaJxVtQs5zfK9i2gk427l/",
      "include_colab_link": true
    },
    "kernelspec": {
      "name": "python3",
      "display_name": "Python 3"
    },
    "language_info": {
      "name": "python"
    }
  },
  "cells": [
    {
      "cell_type": "markdown",
      "metadata": {
        "id": "view-in-github",
        "colab_type": "text"
      },
      "source": [
        "<a href=\"https://colab.research.google.com/github/ymoslem/Adaptive-MT-LLM/blob/main/other/davinci_finetuning_cost.ipynb\" target=\"_parent\"><img src=\"https://colab.research.google.com/assets/colab-badge.svg\" alt=\"Open In Colab\"/></a>"
      ]
    },
    {
      "cell_type": "code",
      "execution_count": 9,
      "metadata": {
        "id": "vX6a7GYOye8M"
      },
      "outputs": [],
      "source": [
        "!pip3 install tiktoken -q"
      ]
    },
    {
      "cell_type": "code",
      "source": [
        "!pip3 freeze | grep tiktoken"
      ],
      "metadata": {
        "colab": {
          "base_uri": "https://localhost:8080/"
        },
        "id": "JU3xf-rsM44k",
        "outputId": "5382a687-c423-4a4d-fdc5-235d2b4b5be8"
      },
      "execution_count": 10,
      "outputs": [
        {
          "output_type": "stream",
          "name": "stdout",
          "text": [
            "tiktoken==0.4.0\n"
          ]
        }
      ]
    },
    {
      "cell_type": "code",
      "source": [
        "import tiktoken\n",
        "\n",
        "def encode(text):\n",
        "  enc = tiktoken.encoding_for_model(\"davinci\")\n",
        "  encoded = enc.encode(text)\n",
        "  # print(enc.n_vocab)\n",
        "  return encoded\n",
        "\n",
        "encode(\"This is a test!\")"
      ],
      "metadata": {
        "colab": {
          "base_uri": "https://localhost:8080/"
        },
        "id": "k-gf0YncykNs",
        "outputId": "b1aa0d2b-4d61-4284-cde1-befc87f290da"
      },
      "execution_count": 11,
      "outputs": [
        {
          "output_type": "execute_result",
          "data": {
            "text/plain": [
              "[1212, 318, 257, 1332, 0]"
            ]
          },
          "metadata": {},
          "execution_count": 11
        }
      ]
    },
    {
      "cell_type": "code",
      "source": [
        "import functools\n",
        "from concurrent.futures import ThreadPoolExecutor\n",
        "\n",
        "def encode_batch(batch, num_threads=32):\n",
        "  encoder = functools.partial(encode)\n",
        "  with ThreadPoolExecutor(num_threads) as e:\n",
        "    return list(e.map(encoder, batch))"
      ],
      "metadata": {
        "id": "RDV8MqbQ7BZs"
      },
      "execution_count": 12,
      "outputs": []
    },
    {
      "cell_type": "code",
      "source": [
        "# test batch encoding\n",
        "batch = [\"Hello!\", \"this is a test.\", \"What about this somehow longer sentence?\"]\n",
        "encode_batch(batch)"
      ],
      "metadata": {
        "colab": {
          "base_uri": "https://localhost:8080/"
        },
        "id": "SHAoe6oN74JP",
        "outputId": "a470e215-e140-469d-df26-61b8a26c5239"
      },
      "execution_count": 13,
      "outputs": [
        {
          "output_type": "execute_result",
          "data": {
            "text/plain": [
              "[[15496, 0],\n",
              " [5661, 318, 257, 1332, 13],\n",
              " [2061, 546, 428, 7599, 2392, 6827, 30]]"
            ]
          },
          "metadata": {},
          "execution_count": 13
        }
      ]
    },
    {
      "cell_type": "code",
      "source": [
        "# Count tokens in the source and target datasets\n",
        "\n",
        "# Change the source and target files\n",
        "source_file = \"tico-19-enes-dedup.en\"\n",
        "target_file = \"tico-19-enes-dedup.es\"\n",
        "\n",
        "with open(source_file) as src, open(target_file) as tgt:\n",
        "  src_sents = src.readlines()\n",
        "  tgt_sents = tgt.readlines()\n",
        "\n",
        "  print(f\"Number of sentences: {len(src_sents)} + {len(tgt_sents)} = {len(src_sents) + len(tgt_sents)} \\n\")\n",
        "\n",
        "  src_sents_encoded = encode_batch(src_sents)\n",
        "  tgt_sents_encoded = encode_batch(tgt_sents)\n",
        "\n",
        "  out_src = []\n",
        "  for src_sent_encoded in src_sents_encoded:\n",
        "    out_src.extend(src_sent_encoded)\n",
        "  \n",
        "\n",
        "  out_tgt = []\n",
        "  for tgt_sent_encoded in tgt_sents_encoded:\n",
        "    out_tgt.extend(tgt_sent_encoded)\n",
        "  \n",
        "  print(f\"Source tokens: {len(out_src)}\")\n",
        "  print(f\"Target tokens: {len(out_tgt)}\")\n",
        "  print(f\"\\nTotal tokens {len(out_src) + len(out_tgt)}\")"
      ],
      "metadata": {
        "colab": {
          "base_uri": "https://localhost:8080/"
        },
        "id": "Vk6Lt8PXFnuN",
        "outputId": "accbfa70-9491-4927-8f61-46addc760a6b"
      },
      "execution_count": 14,
      "outputs": [
        {
          "output_type": "stream",
          "name": "stdout",
          "text": [
            "Number of sentences: 3070 + 3070 = 6140 \n",
            "\n",
            "Source tokens: 96949\n",
            "Target tokens: 183786\n",
            "\n",
            "Total tokens 280735\n"
          ]
        }
      ]
    },
    {
      "cell_type": "code",
      "source": [
        "# Estimate cost of fine-tuning\n",
        "\n",
        "tokens = len(out_src) + len(out_tgt)\n",
        "unit = 1000  # tokens\n",
        "unit_price = 0.03\n",
        "cost = round((tokens / unit) * unit_price, 2)\n",
        "\n",
        "print(f\"Cost estimation: {cost} USD (excluding VAT)\")"
      ],
      "metadata": {
        "colab": {
          "base_uri": "https://localhost:8080/"
        },
        "id": "wsrRRlbHY3Nz",
        "outputId": "7ab265c1-b129-4584-e45f-b71d52f46221"
      },
      "execution_count": 15,
      "outputs": [
        {
          "output_type": "stream",
          "name": "stdout",
          "text": [
            "Cost estimation: 8.42 USD (excluding VAT)\n"
          ]
        }
      ]
    }
  ]
}